{
 "cells": [
  {
   "cell_type": "code",
   "execution_count": 1,
   "outputs": [],
   "source": [
    "from gensim.models import Doc2Vec\n",
    "import multiprocessing, tempfile\n",
    "import logging\n",
    "\n",
    "logger = logging.getLogger('train_doc2vec_model')\n",
    "logger.setLevel(logging.DEBUG)\n",
    "sh = logging.StreamHandler()\n",
    "sh.setFormatter(logging.Formatter('%(asctime)s - %(name)s - %(levelname)s - %(message)s'))\n",
    "logger.addHandler(sh)"
   ],
   "metadata": {
    "collapsed": false,
    "pycharm": {
     "name": "#%%\n"
    }
   }
  },
  {
   "cell_type": "markdown",
   "source": [
    "Parameters for Doc2Vec model"
   ],
   "metadata": {
    "collapsed": false,
    "pycharm": {
     "name": "#%% md\n"
    }
   }
  },
  {
   "cell_type": "code",
   "execution_count": 2,
   "metadata": {
    "collapsed": true
   },
   "outputs": [],
   "source": [
    "model_file = \"/home/cds/Documents/Models/doc2vec_4top2vec.model\"\n",
    "\n",
    "min_count = 20\n",
    "hs = 1\n",
    "negative = 0\n",
    "epochs = 40\n",
    "\n",
    "workers = multiprocessing.cpu_count()\n",
    "\n",
    "doc2vec_args = {\"vector_size\": 300,\n",
    "                \"min_count\": min_count,\n",
    "                \"window\": 15,\n",
    "                \"sample\": 1e-5,\n",
    "                \"negative\": negative,\n",
    "                \"hs\": hs,\n",
    "                \"epochs\": epochs,\n",
    "                \"dm\": 0,\n",
    "                \"dbow_words\": 1,\n",
    "                \"workers\": workers}"
   ]
  },
  {
   "cell_type": "markdown",
   "source": [
    "Load TREC 1-8 dataset\n"
   ],
   "metadata": {
    "collapsed": false,
    "pycharm": {
     "name": "#%% md\n"
    }
   }
  },
  {
   "cell_type": "code",
   "execution_count": 3,
   "outputs": [],
   "source": [
    "from utils import parser\n",
    "text_data = \"/home/cds/Documents/Corpus/lemmatized_trec_all.dat\"\n",
    "\n",
    "_, docs = parser(text_data)\n",
    "\n",
    "temp = tempfile.NamedTemporaryFile(mode='w+t')\n",
    "temp.writelines(docs)\n",
    "\n",
    "doc2vec_args[\"corpus_file\"] = temp.name"
   ],
   "metadata": {
    "collapsed": false,
    "pycharm": {
     "name": "#%%\n"
    }
   }
  },
  {
   "cell_type": "markdown",
   "source": [
    "Train the model with top2vec parameters"
   ],
   "metadata": {
    "collapsed": false,
    "pycharm": {
     "name": "#%% md\n"
    }
   }
  },
  {
   "cell_type": "code",
   "execution_count": 4,
   "outputs": [],
   "source": [
    "model = Doc2Vec(**doc2vec_args)"
   ],
   "metadata": {
    "collapsed": false,
    "pycharm": {
     "name": "#%%\n"
    }
   }
  },
  {
   "cell_type": "markdown",
   "source": [
    "Save the model"
   ],
   "metadata": {
    "collapsed": false,
    "pycharm": {
     "name": "#%% md\n"
    }
   }
  },
  {
   "cell_type": "code",
   "execution_count": 5,
   "outputs": [],
   "source": [
    "model.save(model_file)"
   ],
   "metadata": {
    "collapsed": false,
    "pycharm": {
     "name": "#%%\n"
    }
   }
  },
  {
   "cell_type": "markdown",
   "source": [
    "UMAP TEST"
   ],
   "metadata": {
    "collapsed": false,
    "pycharm": {
     "name": "#%% md\n"
    }
   }
  },
  {
   "cell_type": "code",
   "execution_count": 1,
   "outputs": [
    {
     "name": "stdout",
     "output_type": "stream",
     "text": [
      "True\n"
     ]
    }
   ],
   "source": [
    "from umap import umap_\n",
    "\n",
    "print(umap_._HAVE_PYNNDESCENT)"
   ],
   "metadata": {
    "collapsed": false,
    "pycharm": {
     "name": "#%%\n"
    }
   }
  },
  {
   "cell_type": "code",
   "execution_count": 1,
   "outputs": [
    {
     "name": "stdout",
     "output_type": "stream",
     "text": [
      "UMAP(angular_rp_forest=True, metric='cosine', n_components=5, n_neighbors=10,\n",
      "     verbose=True)\n",
      "Construct fuzzy simplicial set\n",
      "Mon Nov  2 13:21:51 2020 Finding Nearest Neighbors\n",
      "Mon Nov  2 13:21:51 2020 Building RP forest with 50 trees\n",
      "Mon Nov  2 13:22:20 2020 NN descent for 20 iterations\n",
      "\t 1  /  20\n",
      "\t 2  /  20\n",
      "\t 3  /  20\n",
      "\t 4  /  20\n",
      "\t 5  /  20\n",
      "\t 6  /  20\n",
      "\t 7  /  20\n",
      "\tStopping threshold met -- exiting after 7 iterations\n",
      "Mon Nov  2 13:23:04 2020 Finished Nearest Neighbor Search\n",
      "Mon Nov  2 13:23:08 2020 Construct embedding\n",
      "\tcompleted  0  /  200 epochs\n",
      "\tcompleted  20  /  200 epochs\n",
      "\tcompleted  40  /  200 epochs\n",
      "\tcompleted  60  /  200 epochs\n",
      "\tcompleted  80  /  200 epochs\n",
      "\tcompleted  100  /  200 epochs\n",
      "\tcompleted  120  /  200 epochs\n",
      "\tcompleted  140  /  200 epochs\n",
      "\tcompleted  160  /  200 epochs\n",
      "\tcompleted  180  /  200 epochs\n",
      "Mon Nov  2 13:32:16 2020 Finished embedding\n"
     ]
    }
   ],
   "source": [
    "import umap\n",
    "from gensim.models import Doc2Vec\n",
    "# numba import njit, set_num_threads, get_num_threads\n",
    "\n",
    "#set_num_threads(4)\n",
    "#print(get_num_threads())\n",
    "\n",
    "model_file = \"/home/cds/Documents/Models/doc2vec_4top2vec.model\"\n",
    "model = Doc2Vec.load(model_file)\n",
    "\n",
    "doc_vectors = model.docvecs.vectors_docs[:800000]\n",
    "#print(umap_._HAVE_PYNNDESCENT)\n",
    "umap_model = umap.UMAP(n_neighbors=10, n_components=5, low_memory=False, verbose=True,\n",
    "                      metric='cosine').fit(doc_vectors)"
   ],
   "metadata": {
    "collapsed": false,
    "pycharm": {
     "name": "#%%\n"
    }
   }
  },
  {
   "cell_type": "markdown",
   "source": [
    "HdbSCAn"
   ],
   "metadata": {
    "collapsed": false,
    "pycharm": {
     "name": "#%% md\n"
    }
   }
  },
  {
   "cell_type": "code",
   "execution_count": 2,
   "outputs": [],
   "source": [
    "import hdbscan\n",
    "cluster = hdbscan.HDBSCAN(min_cluster_size=15, metric='euclidean',\n",
    "                          cluster_selection_method='eom').fit(umap_model.embedding_)"
   ],
   "metadata": {
    "collapsed": false,
    "pycharm": {
     "name": "#%%\n"
    }
   }
  }
 ],
 "metadata": {
  "kernelspec": {
   "display_name": "Python 3",
   "language": "python",
   "name": "python3"
  },
  "language_info": {
   "codemirror_mode": {
    "name": "ipython",
    "version": 2
   },
   "file_extension": ".py",
   "mimetype": "text/x-python",
   "name": "python",
   "nbconvert_exporter": "python",
   "pygments_lexer": "ipython2",
   "version": "2.7.6"
  }
 },
 "nbformat": 4,
 "nbformat_minor": 0
}