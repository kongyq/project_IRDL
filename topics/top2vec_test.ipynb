{
 "cells": [
  {
   "cell_type": "code",
   "execution_count": 1,
   "metadata": {
    "collapsed": true
   },
   "outputs": [],
   "source": [
    "from top2vec import Top2Vec\n",
    "\n",
    "model_file = \"/home/cds/Documents/Models/top2vec.model\"\n",
    "\n",
    "model = Top2Vec.load(model_file)"
   ]
  },
  {
   "cell_type": "code",
   "execution_count": 2,
   "outputs": [],
   "source": [
    "def topic_parser(file):\n",
    "    topics = dict()\n",
    "    with open(file, 'r') as fp:\n",
    "        for line in fp.readlines():\n",
    "            elems = line.split('|')\n",
    "            topics[int(elems[0])] = elems[1]\n",
    "    return topics"
   ],
   "metadata": {
    "collapsed": false,
    "pycharm": {
     "name": "#%%\n"
    }
   }
  },
  {
   "cell_type": "code",
   "execution_count": 3,
   "outputs": [],
   "source": [
    "topics_file = \"/home/cds/Documents/Topics/topics_full.txt\"\n",
    "\n",
    "topics = topic_parser(topics_file)"
   ],
   "metadata": {
    "collapsed": false,
    "pycharm": {
     "name": "#%%\n"
    }
   }
  },
  {
   "cell_type": "code",
   "execution_count": 31,
   "outputs": [
    {
     "name": "stdout",
     "output_type": "stream",
     "text": [
      "['government', 'assistance', 'airbus', 'industrie', 'trade', 'dispute', 'airbus', 'aircraft', 'producer', 'issue', 'subsidy']\n"
     ]
    }
   ],
   "source": [
    "keywords = topics[51].split(\" \")\n",
    "\n",
    "keywords.remove(\"document\")\n",
    "keywords.remove(\"mention\")\n",
    "keywords.remove(\"discuss\")\n",
    "print(keywords)"
   ],
   "metadata": {
    "collapsed": false,
    "pycharm": {
     "name": "#%%\n"
    }
   }
  },
  {
   "cell_type": "code",
   "execution_count": 32,
   "outputs": [],
   "source": [
    "document_scores, document_ids = model.search_documents_by_keywords(keywords=keywords, num_docs=10000)\n",
    "#for score, doc_id in zip(document_scores, document_ids):\n",
    "#    print(f\"Document: {doc_id}, Score: {score}\")\n",
    "  #  print(\"-----------\")\n",
    " #   print()"
   ],
   "metadata": {
    "collapsed": false,
    "pycharm": {
     "name": "#%%\n"
    }
   }
  },
  {
   "cell_type": "code",
   "execution_count": 4,
   "outputs": [],
   "source": [
    "def save_runs(doc_ids, doc_scores, topic_no, file):\n",
    "    with open(file,  'a') as fp:\n",
    "        for i, (doc_id, doc_score) in enumerate(zip(doc_ids, doc_scores)):\n",
    "            fp.write(str(topic_no) + \" Q0 \" + doc_id + \" \" + str(i) + \" \" + str(doc_score) + \" test\" + \"\\n\")\n"
   ],
   "metadata": {
    "collapsed": false,
    "pycharm": {
     "name": "#%%\n"
    }
   }
  },
  {
   "cell_type": "code",
   "execution_count": 33,
   "outputs": [],
   "source": [
    "run_file = \"/home/cds/Documents/Runs/run_desc.txt\"\n",
    "\n",
    "save_runs(document_ids, document_scores, 51, run_file)"
   ],
   "metadata": {
    "collapsed": false,
    "pycharm": {
     "name": "#%%\n"
    }
   }
  },
  {
   "cell_type": "code",
   "execution_count": 12,
   "outputs": [],
   "source": [
    "trcv_manifest = {\"trcv1\":[\"wsj87\", \"wsj88\", \"wsj89\", \"fr89\", \"ap89\", \"doe\", \"zf1\"],\n",
    "                 \"trcv2\":[\"wsj90\", \"wsj91\", \"wsj92\", \"fr88\", \"ap88\", \"zf2\"],\n",
    "                 \"trcv3\":[\"sjmn\", \"ap90\", \"pt\", \"zf3\"],\n",
    "                 \"trcv4\":[\"ft\", \"cr\", \"fr94\"],\n",
    "                 \"trcv5\":[\"fbis\", \"la\"],\n",
    "                 \"trcv4_nocr\":[\"ft\", \"fr94\"]}\n",
    "\n",
    "trec_manifest = {\"trec1\":[\"trcv1\", \"trcv2\"],\n",
    "                 \"trec2\":[\"trcv1\", \"trcv2\"],\n",
    "                 \"trec3\":[\"trcv1\", \"trcv2\"],\n",
    "                 \"trec4\":[\"trcv2\", \"trcv3\"],\n",
    "                 \"trec5\":[\"trcv2\", \"trcv4\"],\n",
    "                 \"trec6\":[\"trcv4\", \"trcv5\"],\n",
    "                 \"trec7\":[\"trcv4_nocr\", \"trcv5\"],\n",
    "                 \"trec8\":[\"trcv4_nocr\", \"trcv5\"]}\n",
    "\n",
    "def get_doc_prefix(trec_no):\n",
    "    prefix_list = set()\n",
    "    for trcv in trec_manifest[\"trec\"+str(trec_no)]:\n",
    "        for prefix in trcv_manifest[trcv]:\n",
    "            prefix_list.add(prefix)\n",
    "    return prefix_list\n",
    "\n",
    "def result_filter(doc_scores, doc_ids, trec_no):\n",
    "    filtered_scores = list()\n",
    "    filtered_ids = list()\n",
    "\n",
    "    prefixes = get_doc_prefix(trec_no)\n",
    "\n",
    "    for i, doc_id in enumerate(doc_ids):\n",
    "        for prefix in prefixes:\n",
    "            if doc_id.lower().startswith(prefix):\n",
    "                filtered_ids.append(doc_id)\n",
    "                filtered_scores.append(doc_scores[i])\n",
    "\n",
    "    return filtered_scores, filtered_ids\n",
    "\n",
    "def get_topic_list(trec_no):\n",
    "    return [i for i in range(50*trec_no+1, 50*(trec_no+1)+1)]\n",
    "\n",
    "def check_keywords(keywords):\n",
    "    oov_keywords = list()\n",
    "    filtered_keywords = list()\n",
    "    vocab = model.model.wv.vocab\n",
    "    for word in keywords:\n",
    "        if word not in vocab:\n",
    "            oov_keywords.append(word)\n",
    "        else:\n",
    "            filtered_keywords.append(word)\n",
    "    return filtered_keywords, oov_keywords"
   ],
   "metadata": {
    "collapsed": false,
    "pycharm": {
     "name": "#%%\n"
    }
   }
  },
  {
   "cell_type": "code",
   "execution_count": 13,
   "outputs": [],
   "source": [
    "trec_no = 5\n",
    "\n",
    "run_file = \"/home/cds/Documents/Runs/run_baseline.txt\"\n",
    "\n",
    "oov = list()\n",
    "\n",
    "for topic_no in get_topic_list(trec_no):\n",
    "    keywords = topics[topic_no].split(\" \")\n",
    "    filtered_keywords, oov_keywords = check_keywords(keywords)\n",
    "    oov.extend(oov_keywords)\n",
    "    document_scores, document_ids = model.search_documents_by_keywords(keywords=filtered_keywords, num_docs=10000)\n",
    "    filtered_scores, filtered_ids = result_filter(document_scores, document_ids, trec_no)\n",
    "    save_runs(filtered_ids, filtered_scores, topic_no, run_file)"
   ],
   "metadata": {
    "collapsed": false,
    "pycharm": {
     "name": "#%%\n"
    }
   }
  },
  {
   "cell_type": "code",
   "execution_count": 9,
   "outputs": [],
   "source": [
    "def search_documents_by_topkeys(model=model, keywords=keywords, num_docs=num_docs):\n",
    "    _,_,_,topics_nums = model.search_topics(keywords, 10)\n",
    "\n",
    "    for topics_no in topics_nums:\n",
    "        model.get_documents_by_topic()\n",
    "        model.search_documents_by_topic(topics_no, model.get, return_documents=False)\n",
    "\n"
   ],
   "metadata": {
    "collapsed": false,
    "pycharm": {
     "name": "#%%\n"
    }
   }
  },
  {
   "cell_type": "code",
   "execution_count": 1,
   "outputs": [
    {
     "ename": "NameError",
     "evalue": "name 'model' is not defined",
     "output_type": "error",
     "traceback": [
      "\u001B[0;31m---------------------------------------------------------------------------\u001B[0m",
      "\u001B[0;31mNameError\u001B[0m                                 Traceback (most recent call last)",
      "\u001B[0;32m<ipython-input-1-b25fd1f42e27>\u001B[0m in \u001B[0;36m<module>\u001B[0;34m\u001B[0m\n\u001B[1;32m      1\u001B[0m \u001B[0mtest\u001B[0m \u001B[0;34m=\u001B[0m \u001B[0;34m[\u001B[0m\u001B[0;34m\"apple\"\u001B[0m\u001B[0;34m,\u001B[0m \u001B[0;34m\"sads\"\u001B[0m\u001B[0;34m]\u001B[0m\u001B[0;34m\u001B[0m\u001B[0;34m\u001B[0m\u001B[0m\n\u001B[1;32m      2\u001B[0m \u001B[0mt\u001B[0m \u001B[0;34m=\u001B[0m \u001B[0;34m[\u001B[0m\u001B[0;34m\"apple\"\u001B[0m\u001B[0;34m]\u001B[0m\u001B[0;34m\u001B[0m\u001B[0;34m\u001B[0m\u001B[0m\n\u001B[0;32m----> 3\u001B[0;31m \u001B[0mmodel\u001B[0m\u001B[0;34m.\u001B[0m\u001B[0m_get_word_vectors\u001B[0m\u001B[0;34m(\u001B[0m\u001B[0mt\u001B[0m\u001B[0;34m)\u001B[0m\u001B[0;34m\u001B[0m\u001B[0;34m\u001B[0m\u001B[0m\n\u001B[0m",
      "\u001B[0;31mNameError\u001B[0m: name 'model' is not defined"
     ]
    }
   ],
   "source": [
    "test = [\"apple\", \"sads\"]\n",
    "t = [\"apple\"]\n",
    "model._get_word_vectors(t)"
   ],
   "metadata": {
    "collapsed": false,
    "pycharm": {
     "name": "#%%\n"
    }
   }
  },
  {
   "cell_type": "code",
   "execution_count": 2,
   "outputs": [],
   "source": [
    "ds = model._get_document_vectors()\n",
    "vs = model.model.wv.vectors"
   ],
   "metadata": {
    "collapsed": false,
    "pycharm": {
     "name": "#%%\n"
    }
   }
  },
  {
   "cell_type": "code",
   "execution_count": null,
   "outputs": [],
   "source": [
    "from sklearn.metrics.pairwise import euclidean_distances\n",
    "\n"
   ],
   "metadata": {
    "collapsed": false,
    "pycharm": {
     "name": "#%%\n"
    }
   }
  }
 ],
 "metadata": {
  "kernelspec": {
   "display_name": "Python 3",
   "language": "python",
   "name": "python3"
  },
  "language_info": {
   "codemirror_mode": {
    "name": "ipython",
    "version": 2
   },
   "file_extension": ".py",
   "mimetype": "text/x-python",
   "name": "python",
   "nbconvert_exporter": "python",
   "pygments_lexer": "ipython2",
   "version": "2.7.6"
  }
 },
 "nbformat": 4,
 "nbformat_minor": 0
}